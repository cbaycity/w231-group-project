{
 "cells": [
  {
   "cell_type": "code",
   "execution_count": 1,
   "id": "946d0f4e",
   "metadata": {},
   "outputs": [],
   "source": [
    "import pandas as pd\n",
    "import re\n",
    "import numpy as np\n",
    "import time\n",
    "import csv\n",
    "\n",
    "\n",
    "# spark_context = SparkSession.builder.master(\"local\").appName(\"main\").getOrCreate()\n",
    "\n",
    "fire_dep = pd.read_csv('Seattle_Real_Time_Fire_911_Calls.csv')\n",
    "contractors = pd.read_csv('L_I_Contractor_License_Data_-_General.csv')\n",
    "abbr = pd.read_csv('street_abbr.csv')\n",
    "# wa_voters = pd.read_csv('WashingtonStateVoterExtract/20221101_VRDB_Extract.txt', sep = '|')"
   ]
  },
  {
   "cell_type": "code",
   "execution_count": 92,
   "id": "3ed59194",
   "metadata": {},
   "outputs": [],
   "source": [
    "vars_to_use = [('FName', 1), ('MName', 2), ('LName', 3), ('RegStNum', 7), ('RegStName', 9), ('RegStType', 10), ('RegCity', 15), ('Registrationdate', 31)]\n",
    "# Registration Date and the combintion of RegStNum, RegStName, and RegStFrac are important for the join. \n",
    "\n",
    "voters = []\n",
    "\n",
    "voters_path = 'WashingtonStateVoterExtract/20221101_VRDB_Extract.txt'\n",
    "with open(voters_path) as file:\n",
    "    wa_voters = csv.reader(file, delimiter=\"|\")\n",
    "    for row in wa_voters:\n",
    "        voter = {}\n",
    "        for var_index in vars_to_use:\n",
    "            voter.update({var_index[0]: row[var_index[1]]})\n",
    "        voters.append(voter)\n",
    "        "
   ]
  },
  {
   "cell_type": "code",
   "execution_count": 93,
   "id": "f29fe622",
   "metadata": {},
   "outputs": [],
   "source": [
    "voters_df = pd.DataFrame(voters[1:len(voters)], columns = voters[0])"
   ]
  },
  {
   "cell_type": "code",
   "execution_count": 95,
   "id": "21d41b3a",
   "metadata": {},
   "outputs": [
    {
     "data": {
      "text/html": [
       "<div>\n",
       "<style scoped>\n",
       "    .dataframe tbody tr th:only-of-type {\n",
       "        vertical-align: middle;\n",
       "    }\n",
       "\n",
       "    .dataframe tbody tr th {\n",
       "        vertical-align: top;\n",
       "    }\n",
       "\n",
       "    .dataframe thead th {\n",
       "        text-align: right;\n",
       "    }\n",
       "</style>\n",
       "<table border=\"1\" class=\"dataframe\">\n",
       "  <thead>\n",
       "    <tr style=\"text-align: right;\">\n",
       "      <th></th>\n",
       "      <th>full</th>\n",
       "      <th>abbr</th>\n",
       "    </tr>\n",
       "  </thead>\n",
       "  <tbody>\n",
       "    <tr>\n",
       "      <th>0</th>\n",
       "      <td>alley</td>\n",
       "      <td>aly</td>\n",
       "    </tr>\n",
       "    <tr>\n",
       "      <th>1</th>\n",
       "      <td>avenue</td>\n",
       "      <td>ave</td>\n",
       "    </tr>\n",
       "    <tr>\n",
       "      <th>2</th>\n",
       "      <td>boulevard</td>\n",
       "      <td>blvd</td>\n",
       "    </tr>\n",
       "    <tr>\n",
       "      <th>3</th>\n",
       "      <td>causeway</td>\n",
       "      <td>cswy</td>\n",
       "    </tr>\n",
       "    <tr>\n",
       "      <th>4</th>\n",
       "      <td>center</td>\n",
       "      <td>ctr</td>\n",
       "    </tr>\n",
       "  </tbody>\n",
       "</table>\n",
       "</div>"
      ],
      "text/plain": [
       "        full  abbr\n",
       "0      alley   aly\n",
       "1     avenue   ave\n",
       "2  boulevard  blvd\n",
       "3   causeway  cswy\n",
       "4     center   ctr"
      ]
     },
     "execution_count": 95,
     "metadata": {},
     "output_type": "execute_result"
    }
   ],
   "source": [
    "abbr['full'] = abbr['full'].str.lower()\n",
    "abbr['abbr'] = abbr['abbr'].str.lower()\n",
    "abbr.head()"
   ]
  },
  {
   "cell_type": "code",
   "execution_count": 96,
   "id": "7fd0cef5",
   "metadata": {},
   "outputs": [
    {
     "name": "stdout",
     "output_type": "stream",
     "text": [
      "11506 meridian ave n\n",
      "Expected Runtime is ~9min. \n",
      "Over 1 mil records and expensive str search operation.\n",
      "\n",
      "    Could parallelize with Spark but that's too much work\n",
      "Time:  -565.6257715000029\n"
     ]
    }
   ],
   "source": [
    "# Need to data clean with the steps below:\n",
    "# lower\n",
    "# remove punctuation\n",
    "\n",
    "def apply_regex(address):\n",
    "    '''Uses regular expressions to format the address data fora join.'''\n",
    "    \n",
    "    address = str(address)\n",
    "    \n",
    "    new_str = address.lower()\n",
    "    end_str = re.sub(r'[^\\w\\s]', '', new_str)\n",
    "    \n",
    "    for i in range(len(abbr)):\n",
    "        end_str = end_str.replace(abbr['full'][i], abbr['abbr'][i])\n",
    "    \n",
    "    return end_str\n",
    "\n",
    "print(apply_regex(contractors['Address1'][0]))\n",
    "\n",
    "print(\"\"\"Expected Runtime is ~9min. \\nOver 1 mil records and expensive str search operation.\\n\n",
    "    Could parallelize with Spark but that's too much work\"\"\")\n",
    "\n",
    "start = time.perf_counter()\n",
    "\n",
    "contractors['join_address'] = contractors['Address1'].apply(apply_regex)\n",
    "fire_dep['join_address'] = fire_dep['Address'].apply(apply_regex)\n",
    "print(\"Time: \", start - time.perf_counter())\n"
   ]
  },
  {
   "cell_type": "code",
   "execution_count": 97,
   "id": "1c9f17b5",
   "metadata": {},
   "outputs": [],
   "source": [
    "# Should take about 10 minutes to run\n",
    "voters_df['concated'] = voters_df['RegStNum'] + voters_df['RegStName'] + voters_df['RegStType']\n",
    "\n",
    "voters_df['address'] = voters_df['concated'].apply(apply_regex)\n"
   ]
  },
  {
   "cell_type": "code",
   "execution_count": 98,
   "id": "3228ee9e",
   "metadata": {},
   "outputs": [],
   "source": [
    "# Need to get only the most recent contractor for each address in the contractors dataset. \n",
    "contractors['recency'] = contractors.sort_values(['LicenseEffectiveDate'])\\\n",
    "    .groupby(['join_address'])\\\n",
    "    .cumcount() + 1\n",
    "\n",
    "# a recency of 1 is the newest record. \n",
    "\n",
    "contractors[contractors['join_address'] == '0607 sw idaho st'][['LicenseEffectiveDate', 'recency']]\n",
    "\n",
    "contractors = contractors[contractors['recency'] == 1]"
   ]
  },
  {
   "cell_type": "code",
   "execution_count": 99,
   "id": "277e2254",
   "metadata": {},
   "outputs": [],
   "source": [
    "# Need to think about other data cleaning steps to improve the re-identification. "
   ]
  },
  {
   "cell_type": "code",
   "execution_count": 110,
   "id": "9f5005a3",
   "metadata": {},
   "outputs": [
    {
     "name": "stdout",
     "output_type": "stream",
     "text": [
      "hiding head of data from Github for privacy\n"
     ]
    }
   ],
   "source": [
    "# Manages the join. \n",
    "\n",
    "joined_data = pd.merge(fire_dep, contractors, on = \"join_address\", how = 'left')\n",
    "joined_data.sort_values(['recency'])\n",
    "print('hiding head of data from Github for privacy')"
   ]
  },
  {
   "cell_type": "code",
   "execution_count": 101,
   "id": "f4adc0de",
   "metadata": {},
   "outputs": [],
   "source": [
    "# Calculates what percentage of fire department emergencies are linked to contractors. \n",
    "\n",
    "total_incidents = len(joined_data)\n",
    "joined_incidents = len(joined_data[np.isnan(joined_data['recency']) == False])\n"
   ]
  },
  {
   "cell_type": "code",
   "execution_count": 102,
   "id": "dd83788c",
   "metadata": {},
   "outputs": [
    {
     "name": "stdout",
     "output_type": "stream",
     "text": [
      "Percent of the dataset identified:  1.225101952372791\n"
     ]
    }
   ],
   "source": [
    "print('Percent of the dataset identified: ', 100 * joined_incidents / total_incidents)"
   ]
  },
  {
   "cell_type": "code",
   "execution_count": 103,
   "id": "d5ad883e",
   "metadata": {},
   "outputs": [],
   "source": [
    "# need to think about joining on dates so that you only get incidents \n",
    "# that are after the contractor moved into the unit. "
   ]
  },
  {
   "cell_type": "code",
   "execution_count": 66,
   "id": "7215942a",
   "metadata": {},
   "outputs": [
    {
     "data": {
      "text/plain": [
       "21230"
      ]
     },
     "execution_count": 66,
     "metadata": {},
     "output_type": "execute_result"
    }
   ],
   "source": [
    "joined_incidents"
   ]
  },
  {
   "cell_type": "code",
   "execution_count": 105,
   "id": "95b3951d",
   "metadata": {},
   "outputs": [],
   "source": [
    "voters_df['join_address'] = voters_df['address']\n",
    "joined_data_full = pd.merge(joined_data, voters_df, on = \"join_address\", how = 'left')"
   ]
  },
  {
   "cell_type": "code",
   "execution_count": 9,
   "id": "852f1dd9",
   "metadata": {},
   "outputs": [],
   "source": [
    "joined_data_full.to_csv('joined_data_full.csv', index = False)"
   ]
  },
  {
   "cell_type": "code",
   "execution_count": 3,
   "id": "4c79a837",
   "metadata": {},
   "outputs": [
    {
     "name": "stderr",
     "output_type": "stream",
     "text": [
      "C:\\Users\\bayardcarlson\\anaconda3\\lib\\site-packages\\IPython\\core\\interactiveshell.py:3444: DtypeWarning: Columns (25,26,33,34,35,37,39,40,41,42) have mixed types.Specify dtype option on import or set low_memory=False.\n",
      "  exec(code_obj, self.user_global_ns, self.user_ns)\n"
     ]
    }
   ],
   "source": [
    "if 'joined_data_full' not in locals() and 'joined_data_full' not in globals():\n",
    "    joined_data_full = pd.read_csv('joined_data_full.csv')"
   ]
  },
  {
   "cell_type": "code",
   "execution_count": 39,
   "id": "ee8a3f5e",
   "metadata": {},
   "outputs": [
    {
     "ename": "SyntaxError",
     "evalue": "invalid syntax (Temp/ipykernel_20736/2843008630.py, line 7)",
     "output_type": "error",
     "traceback": [
      "\u001b[1;36m  File \u001b[1;32m\"C:\\Users\\BAYARD~1\\AppData\\Local\\Temp/ipykernel_20736/2843008630.py\"\u001b[1;36m, line \u001b[1;32m7\u001b[0m\n\u001b[1;33m    data = pd.DataFrame([{'Dataset':'Fire Dept','Size':len(joined_data_full)}, {'Dataset':'Contractor Matches', 'Size':joined_incidents}, {'Dataset':'Voter Matches': 'Size':voters_joined}], columns = ['Dataset', 'Size'])\u001b[0m\n\u001b[1;37m                                                                                                                                                                    ^\u001b[0m\n\u001b[1;31mSyntaxError\u001b[0m\u001b[1;31m:\u001b[0m invalid syntax\n"
     ]
    }
   ],
   "source": [
    "voters_joined = len(joined_data_full[joined_data_full['FName'].isna() == False])\n",
    "\n",
    "# This line ensures that the entire notebook does not need to be re-run. \n",
    "if 'joined_incidents' not in locals() and 'joined_incidents' not in globals():\n",
    "    joined_incidents = 21230\n",
    "\n",
    "data = pd.DataFrame([{'Dataset':'Fire Dept','Size':len(joined_data_full)}, {'Dataset':'Contractor Matches', 'Size':joined_incidents}, {'Dataset':'Voter Matches': 'Size':voters_joined}], columns = ['Dataset', 'Size'])"
   ]
  },
  {
   "cell_type": "code",
   "execution_count": 22,
   "id": "b37e270b",
   "metadata": {},
   "outputs": [
    {
     "data": {
      "text/plain": [
       "1732917"
      ]
     },
     "execution_count": 22,
     "metadata": {},
     "output_type": "execute_result"
    }
   ],
   "source": [
    "import matplotlib.pyplot as plt\n",
    "len(joined_data_full)"
   ]
  },
  {
   "cell_type": "code",
   "execution_count": 28,
   "id": "e53adef8",
   "metadata": {},
   "outputs": [
    {
     "data": {
      "image/png": "[encoded data removed]",
      "text/plain": [
       "<Figure size 720x360 with 1 Axes>"
      ]
     },
     "metadata": {
      "needs_background": "light"
     },
     "output_type": "display_data"
    }
   ],
   "source": [
    "fig = plt.figure(figsize = (10,5))\n",
    "plt.bar(data['Dataset'], data['Fire Dept Incidents'],  color ='maroon', width = 0.4)\n",
    "\n",
    "plt.xlabel(\"Dataset\")\n",
    "plt.ylabel(\"Fire Dept Incidents\")\n",
    "plt.title(\"Seattle Fire Dept Incident Matches to Individuals\")\n",
    "plt.show()\n"
   ]
  },
  {
   "cell_type": "code",
   "execution_count": 37,
   "id": "96e6a812",
   "metadata": {},
   "outputs": [
    {
     "data": {
      "text/html": [
       "<div>\n",
       "<style scoped>\n",
       "    .dataframe tbody tr th:only-of-type {\n",
       "        vertical-align: middle;\n",
       "    }\n",
       "\n",
       "    .dataframe tbody tr th {\n",
       "        vertical-align: top;\n",
       "    }\n",
       "\n",
       "    .dataframe thead th {\n",
       "        text-align: right;\n",
       "    }\n",
       "</style>\n",
       "<table border=\"1\" class=\"dataframe\">\n",
       "  <thead>\n",
       "    <tr style=\"text-align: right;\">\n",
       "      <th></th>\n",
       "      <th>Dataset</th>\n",
       "      <th>Fire Dept Incidents</th>\n",
       "    </tr>\n",
       "  </thead>\n",
       "  <tbody>\n",
       "    <tr>\n",
       "      <th>0</th>\n",
       "      <td>NaN</td>\n",
       "      <td>NaN</td>\n",
       "    </tr>\n",
       "    <tr>\n",
       "      <th>1</th>\n",
       "      <td>NaN</td>\n",
       "      <td>NaN</td>\n",
       "    </tr>\n",
       "    <tr>\n",
       "      <th>2</th>\n",
       "      <td>NaN</td>\n",
       "      <td>NaN</td>\n",
       "    </tr>\n",
       "  </tbody>\n",
       "</table>\n",
       "</div>"
      ],
      "text/plain": [
       "   Dataset  Fire Dept Incidents\n",
       "0      NaN                  NaN\n",
       "1      NaN                  NaN\n",
       "2      NaN                  NaN"
      ]
     },
     "execution_count": 37,
     "metadata": {},
     "output_type": "execute_result"
    }
   ],
   "source": [
    "data"
   ]
  },
  {
   "cell_type": "code",
   "execution_count": 30,
   "id": "1180e313",
   "metadata": {},
   "outputs": [
    {
     "data": {
      "text/plain": [
       "1732917"
      ]
     },
     "execution_count": 30,
     "metadata": {},
     "output_type": "execute_result"
    }
   ],
   "source": [
    "len(joined_data_full)"
   ]
  },
  {
   "cell_type": "code",
   "execution_count": null,
   "id": "eddd1bb5",
   "metadata": {},
   "outputs": [],
   "source": []
  }
 ],
 "metadata": {
  "kernelspec": {
   "display_name": "Python 3 (ipykernel)",
   "language": "python",
   "name": "python3"
  },
  "language_info": {
   "codemirror_mode": {
    "name": "ipython",
    "version": 3
   },
   "file_extension": ".py",
   "mimetype": "text/x-python",
   "name": "python",
   "nbconvert_exporter": "python",
   "pygments_lexer": "ipython3",
   "version": "3.8.12"
  }
 },
 "nbformat": 4,
 "nbformat_minor": 5
}
