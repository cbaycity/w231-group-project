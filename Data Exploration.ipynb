{
 "cells": [
  {
   "cell_type": "code",
   "execution_count": 357,
   "id": "946d0f4e",
   "metadata": {},
   "outputs": [],
   "source": [
    "import pandas as pd\n",
    "import re\n",
    "import numpy as np\n",
    "import time\n",
    "import csv\n",
    "\n",
    "\n",
    "# spark_context = SparkSession.builder.master(\"local\").appName(\"main\").getOrCreate()\n",
    "\n",
    "fire_dep = pd.read_csv('Seattle_Real_Time_Fire_911_Calls.csv')\n",
    "contractors = pd.read_csv('L_I_Contractor_License_Data_-_General.csv')\n",
    "abbr = pd.read_csv('street_abbr.csv')\n",
    "# wa_voters = pd.read_csv('WashingtonStateVoterExtract/20221101_VRDB_Extract.txt', sep = '|')"
   ]
  },
  {
   "cell_type": "code",
   "execution_count": 358,
   "id": "3ed59194",
   "metadata": {},
   "outputs": [],
   "source": [
    "vars_to_use = [('FName', 1), ('MName', 2), ('LName', 3), ('Registrationdate', 31), ('Mail1', 23), ('Mail2', 24), ('Mail3', 25), ('StatusCode', 34)]\n",
    "# Registration Date and the combintion of RegStNum, RegStName, and RegStFrac are important for the join. \n",
    "\n",
    "voters = []\n",
    "\n",
    "voters_path = 'WashingtonStateVoterExtract/20221101_VRDB_Extract.txt'\n",
    "with open(voters_path) as file:\n",
    "    wa_voters = csv.reader(file, delimiter=\"|\")\n",
    "    for row in wa_voters:\n",
    "        voter = {}\n",
    "        for var_index in vars_to_use:\n",
    "            voter.update({var_index[0]: row[var_index[1]]})\n",
    "        voters.append(voter)\n",
    "        "
   ]
  },
  {
   "cell_type": "code",
   "execution_count": 359,
   "id": "f29fe622",
   "metadata": {},
   "outputs": [],
   "source": [
    "voters_df = pd.DataFrame(voters[1:len(voters)], columns = voters[0])\n",
    "voters_df = voters_df[voters_df['Mail1'] != '']\n",
    "voters_df = voters_df[~voters_df['Mail1'].isna()]\n",
    "voters_df = voters_df[voters_df['StatusCode'] == 'Active']"
   ]
  },
  {
   "cell_type": "code",
   "execution_count": 360,
   "id": "ae8e0ac0",
   "metadata": {},
   "outputs": [],
   "source": [
    "# This cell enables quick development by removing limiting the size of the data\n",
    "\n",
    "# voters_df = voters_df[0:50000]\n",
    "# fire_dep = fire_dep[0:50000]\n",
    "# contractors = contractors[0:50000]"
   ]
  },
  {
   "cell_type": "code",
   "execution_count": 361,
   "id": "21d41b3a",
   "metadata": {},
   "outputs": [
    {
     "data": {
      "text/html": [
       "<div>\n",
       "<style scoped>\n",
       "    .dataframe tbody tr th:only-of-type {\n",
       "        vertical-align: middle;\n",
       "    }\n",
       "\n",
       "    .dataframe tbody tr th {\n",
       "        vertical-align: top;\n",
       "    }\n",
       "\n",
       "    .dataframe thead th {\n",
       "        text-align: right;\n",
       "    }\n",
       "</style>\n",
       "<table border=\"1\" class=\"dataframe\">\n",
       "  <thead>\n",
       "    <tr style=\"text-align: right;\">\n",
       "      <th></th>\n",
       "      <th>full</th>\n",
       "      <th>abbr</th>\n",
       "    </tr>\n",
       "  </thead>\n",
       "  <tbody>\n",
       "    <tr>\n",
       "      <th>0</th>\n",
       "      <td>alley</td>\n",
       "      <td>aly</td>\n",
       "    </tr>\n",
       "    <tr>\n",
       "      <th>1</th>\n",
       "      <td>avenue</td>\n",
       "      <td>ave</td>\n",
       "    </tr>\n",
       "    <tr>\n",
       "      <th>2</th>\n",
       "      <td>boulevard</td>\n",
       "      <td>blvd</td>\n",
       "    </tr>\n",
       "    <tr>\n",
       "      <th>3</th>\n",
       "      <td>causeway</td>\n",
       "      <td>cswy</td>\n",
       "    </tr>\n",
       "    <tr>\n",
       "      <th>4</th>\n",
       "      <td>center</td>\n",
       "      <td>ctr</td>\n",
       "    </tr>\n",
       "  </tbody>\n",
       "</table>\n",
       "</div>"
      ],
      "text/plain": [
       "        full  abbr\n",
       "0      alley   aly\n",
       "1     avenue   ave\n",
       "2  boulevard  blvd\n",
       "3   causeway  cswy\n",
       "4     center   ctr"
      ]
     },
     "execution_count": 361,
     "metadata": {},
     "output_type": "execute_result"
    }
   ],
   "source": [
    "abbr['full'] = abbr['full'].str.lower()\n",
    "abbr['abbr'] = abbr['abbr'].str.lower()\n",
    "abbr.head()"
   ]
  },
  {
   "cell_type": "code",
   "execution_count": 362,
   "id": "7fd0cef5",
   "metadata": {},
   "outputs": [
    {
     "name": "stdout",
     "output_type": "stream",
     "text": [
      "11506 meridian ave n\n",
      "Expected Runtime is ~9min. \n",
      "Over 1 mil records and expensive str search operation.\n",
      "\n",
      "    Could parallelize with Spark but that's too much work\n",
      "Time:  -518.7798617000008\n"
     ]
    }
   ],
   "source": [
    "# Need to data clean with the steps below:\n",
    "# lower\n",
    "# remove punctuation\n",
    "\n",
    "def apply_regex(address):\n",
    "    '''Uses regular expressions to format the address data fora join.'''\n",
    "    \n",
    "    address = str(address)\n",
    "    \n",
    "    new_str = address.lower()\n",
    "    end_str = re.sub(r'[^\\w\\s]', '', new_str)\n",
    "    \n",
    "    for i in range(len(abbr)):\n",
    "        end_str = end_str.replace(abbr['full'][i], abbr['abbr'][i])\n",
    "    \n",
    "    return end_str\n",
    "\n",
    "print(apply_regex(contractors['Address1'][0]))\n",
    "\n",
    "print(\"\"\"Expected Runtime is ~9min. \\nOver 1 mil records and expensive str search operation.\\n\n",
    "    Could parallelize with Spark but that's too much work\"\"\")\n",
    "\n",
    "start = time.perf_counter()\n",
    "\n",
    "contractors['join_address'] = contractors['Address1'].apply(apply_regex)\n",
    "fire_dep['join_address'] = fire_dep['Address'].apply(apply_regex)\n",
    "print(\"Time: \", start - time.perf_counter())\n"
   ]
  },
  {
   "cell_type": "code",
   "execution_count": 363,
   "id": "1c9f17b5",
   "metadata": {},
   "outputs": [],
   "source": [
    "# Should take about 10 minutes to run\n",
    "#  ('RegStPreDirection', 12), ('RegStUnitNum', 14)\n",
    "\n",
    "voters_df['join_address'] = voters_df['Mail1'].apply(apply_regex)\n"
   ]
  },
  {
   "cell_type": "code",
   "execution_count": 364,
   "id": "3228ee9e",
   "metadata": {},
   "outputs": [],
   "source": [
    "# Need to get only the most recent contractor for each address in the contractors dataset. \n",
    "contractors['recency'] = contractors.sort_values(['LicenseEffectiveDate'])\\\n",
    "    .groupby(['join_address'])\\\n",
    "    .cumcount() + 1\n",
    "\n",
    "# a recency of 1 is the newest record. \n",
    "\n",
    "contractors[contractors['join_address'] == '0607 sw idaho st'][['LicenseEffectiveDate', 'recency']]\n",
    "\n",
    "contractors = contractors[contractors['recency'] == 1]"
   ]
  },
  {
   "cell_type": "code",
   "execution_count": 365,
   "id": "277e2254",
   "metadata": {},
   "outputs": [],
   "source": [
    "# Need to think about other data cleaning steps to improve the re-identification. "
   ]
  },
  {
   "cell_type": "code",
   "execution_count": 366,
   "id": "9f5005a3",
   "metadata": {},
   "outputs": [
    {
     "name": "stdout",
     "output_type": "stream",
     "text": [
      "hiding head of data from Github for privacy\n"
     ]
    }
   ],
   "source": [
    "# Manages the join. \n",
    "\n",
    "joined_data = pd.merge(fire_dep, contractors, on = \"join_address\", how = 'left')\n",
    "joined_data.sort_values(['recency'])\n",
    "print('hiding head of data from Github for privacy')"
   ]
  },
  {
   "cell_type": "code",
   "execution_count": 367,
   "id": "f4adc0de",
   "metadata": {},
   "outputs": [],
   "source": [
    "# Calculates what percentage of fire department emergencies are linked to contractors. \n",
    "\n",
    "total_incidents = len(joined_data)\n",
    "joined_incidents = len(joined_data[np.isnan(joined_data['recency']) == False])\n"
   ]
  },
  {
   "cell_type": "code",
   "execution_count": 368,
   "id": "dd83788c",
   "metadata": {},
   "outputs": [
    {
     "name": "stdout",
     "output_type": "stream",
     "text": [
      "Percent of the dataset identified:  1.225101952372791\n"
     ]
    }
   ],
   "source": [
    "print('Percent of the dataset identified: ', 100 * joined_incidents / total_incidents)"
   ]
  },
  {
   "cell_type": "code",
   "execution_count": 369,
   "id": "d5ad883e",
   "metadata": {},
   "outputs": [],
   "source": [
    "# need to think about joining on dates so that you only get incidents \n",
    "# that are after the contractor moved into the unit. "
   ]
  },
  {
   "cell_type": "code",
   "execution_count": 370,
   "id": "7215942a",
   "metadata": {},
   "outputs": [
    {
     "data": {
      "text/plain": [
       "21230"
      ]
     },
     "execution_count": 370,
     "metadata": {},
     "output_type": "execute_result"
    }
   ],
   "source": [
    "joined_incidents"
   ]
  },
  {
   "cell_type": "code",
   "execution_count": 371,
   "id": "95b3951d",
   "metadata": {},
   "outputs": [],
   "source": [
    "joined_data_full = pd.merge(joined_data, voters_df, on = \"join_address\", how = 'left')"
   ]
  },
  {
   "cell_type": "code",
   "execution_count": 372,
   "id": "852f1dd9",
   "metadata": {},
   "outputs": [],
   "source": [
    "joined_data_full.to_csv('joined_data_full.csv', index = False)"
   ]
  },
  {
   "cell_type": "code",
   "execution_count": 373,
   "id": "4c79a837",
   "metadata": {},
   "outputs": [],
   "source": [
    "if 'joined_data_full' not in locals() and 'joined_data_full' not in globals():\n",
    "    joined_data_full = pd.read_csv('joined_data_full.csv')"
   ]
  },
  {
   "cell_type": "code",
   "execution_count": 374,
   "id": "02305241",
   "metadata": {},
   "outputs": [],
   "source": [
    "voters_joined = len(joined_data_full[joined_data_full['FName'].isna() == False])\n",
    "\n",
    "# This line ensures that the entire notebook does not need to be re-run. \n",
    "if 'joined_incidents' not in locals() and 'joined_incidents' not in globals():\n",
    "    joined_incidents = 21230\n",
    "\n",
    "data = pd.DataFrame.from_records([{'Dataset':'Fire Dept', 'Size':len(joined_data_full)/ len(joined_data_full)},\n",
    "                                  {'Dataset':'Voter Matches', 'Size':voters_joined/ len(joined_data_full)},\n",
    "                                 {'Dataset':'Contractor Matches', 'Size':joined_incidents/ len(joined_data_full)},\n",
    "                                 ])"
   ]
  },
  {
   "cell_type": "code",
   "execution_count": 384,
   "id": "bec7d4a9",
   "metadata": {},
   "outputs": [],
   "source": [
    "import matplotlib.pyplot as plt\n",
    "import matplotlib.ticker as mtick"
   ]
  },
  {
   "cell_type": "code",
   "execution_count": 385,
   "id": "314f4237",
   "metadata": {},
   "outputs": [
    {
     "data": {
      "image/png": "[encoded data removed]",
      "text/plain": [
       "<Figure size 720x360 with 1 Axes>"
      ]
     },
     "metadata": {
      "needs_background": "light"
     },
     "output_type": "display_data"
    },
    {
     "data": {
      "text/plain": [
       "<Figure size 432x288 with 0 Axes>"
      ]
     },
     "metadata": {},
     "output_type": "display_data"
    }
   ],
   "source": [
    "fig, ax = plt.subplots(figsize = (10,5))\n",
    "\n",
    "ax.bar(data['Dataset'], data['Size'],  color ='maroon', width = 0.4)\n",
    "\n",
    "ax.set_xlabel(\"Dataset\", fontsize = 'x-large')\n",
    "ax.set_ylabel(\"Fire Dept Incidents\", fontsize = 'x-large')\n",
    "ax.set_title(\"Seattle Fire Dept Incident Matches to Individuals\", fontsize = 'xx-large')\n",
    "\n",
    "ax.yaxis.set_major_formatter(mtick.PercentFormatter(xmax=1.0))\n",
    "\n",
    "plt.show()\n",
    "plt.savefig('plot.svg', format='svg')\n"
   ]
  },
  {
   "cell_type": "markdown",
   "id": "4f7cdfa1",
   "metadata": {},
   "source": [
    "## Open questions\n",
    "1. What percent of Seattle voters live in a multi-unit home? What percent of fire department calls have a unit number?\n",
    " -- Can you answer the impact by just removing the unit number?\n",
    " -- What about Mail 2-4? \n",
    "\n",
    "ANSWER: the addresses in the voters dataset are entered free form and don't really make a lot of sense. Lots of preprocessing would be required to add them correctly. "
   ]
  },
  {
   "cell_type": "code",
   "execution_count": 387,
   "id": "8da184dc",
   "metadata": {},
   "outputs": [
    {
     "data": {
      "text/plain": [
       "85209"
      ]
     },
     "execution_count": 387,
     "metadata": {},
     "output_type": "execute_result"
    }
   ],
   "source": [
    "voters_joined"
   ]
  },
  {
   "cell_type": "code",
   "execution_count": null,
   "id": "f2bacfc4",
   "metadata": {},
   "outputs": [],
   "source": []
  }
 ],
 "metadata": {
  "kernelspec": {
   "display_name": "Python 3 (ipykernel)",
   "language": "python",
   "name": "python3"
  },
  "language_info": {
   "codemirror_mode": {
    "name": "ipython",
    "version": 3
   },
   "file_extension": ".py",
   "mimetype": "text/x-python",
   "name": "python",
   "nbconvert_exporter": "python",
   "pygments_lexer": "ipython3",
   "version": "3.8.12"
  }
 },
 "nbformat": 4,
 "nbformat_minor": 5
}
